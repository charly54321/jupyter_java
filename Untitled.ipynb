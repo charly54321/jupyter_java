{
 "cells": [
  {
   "cell_type": "code",
   "execution_count": null,
   "id": "6bd6004c-2cbf-4882-9734-63a8d0382871",
   "metadata": {},
   "outputs": [],
   "source": [
    "//crear una estructura condicional que:\n",
    "// dado un número n entero;\n",
    "// -imprima bizz si n es multiple de 3\n",
    "// -imprima bazz si n es multiple de 5\n",
    "// -imprima buzz si n es multiple de 7\n",
    "// -imprima grrr... si n no es multiple de ni de 3, ni de 5, ni de 7"
   ]
  },
  {
   "cell_type": "code",
   "execution_count": null,
   "id": "99d8f59c-4d05-4d84-b450-8334555944c0",
   "metadata": {},
   "outputs": [],
   "source": [
    "int n;\n",
    "\n",
    "Scanner lectura = new Scanner (System.in);\n",
    "\n",
    "System.out.println(\"Ingrese un numero: \");\n",
    "\n",
    "n = lectura.nextInt(); \n",
    "\n",
    "if(n%3 == 0){\n",
    "    println(\"bizz\");\n",
    "    \n",
    "}if(n%5 == 0){\n",
    "    println(\"bazz\");\n",
    "    \n",
    "}if(n%7 == 0){\n",
    "    println(\"buzz\");\n",
    "    \n",
    "}else if (n % 3 != 0 && n % 5 != 0 && n % 7 != 0){\n",
    "    println(\"grrr...\");\n",
    "}"
   ]
  },
  {
   "cell_type": "code",
   "execution_count": 10,
   "id": "57811d52-f757-42ec-999d-34bca8f4f3ee",
   "metadata": {},
   "outputs": [
    {
     "name": "stdout",
     "output_type": "stream",
     "text": [
      "Ingrese la tabla de multiplicar: \n"
     ]
    },
    {
     "name": "stdin",
     "output_type": "stream",
     "text": [
      " 3\n"
     ]
    },
    {
     "name": "stdout",
     "output_type": "stream",
     "text": [
      "3x1 = 3\n",
      "3x2 = 6\n",
      "3x3 = 9\n",
      "3x4 = 12\n",
      "3x5 = 15\n",
      "3x6 = 18\n",
      "3x7 = 21\n",
      "3x8 = 24\n",
      "3x9 = 27\n",
      "3x10 = 30\n"
     ]
    }
   ],
   "source": [
    "//tabla de multiplicar\n",
    "int n;\n",
    "//int i = 1;\n",
    "Scanner lectura = new Scanner (System.in);\n",
    "\n",
    "System.out.println(\"Ingrese la tabla de multiplicar: \");\n",
    "\n",
    "n = lectura.nextInt(); \n",
    "for(int i = 1; i < 11; i ++){\n",
    "    int resultado = n*i;\n",
    "    printf(\"%dx%d = %d%n\", n, i, resultado);\n",
    "}\n",
    "//while(i < 11){ \n",
    "    //print(n*i + \" \");\n",
    "    //i ++;\n",
    "//}\n"
   ]
  },
  {
   "cell_type": "code",
   "execution_count": 9,
   "id": "99b10409-c80b-4455-9e34-084aa19a862a",
   "metadata": {},
   "outputs": [
    {
     "name": "stdout",
     "output_type": "stream",
     "text": [
      "30 29 28 27 26 25 24 23 22 21 20 19 18 17 16 15 14 13 12 11 10 9 8 7 6 5 4 3 2 1 0 "
     ]
    }
   ],
   "source": [
    "int k = 30;\n",
    "\n",
    "for(int contador = k; contador >= 0; contador --){\n",
    "    print(contador + \" \");\n",
    "}"
   ]
  },
  {
   "cell_type": "code",
   "execution_count": 25,
   "id": "527007a0-a5e0-408b-8939-9ede4b3c94c0",
   "metadata": {},
   "outputs": [
    {
     "name": "stdout",
     "output_type": "stream",
     "text": [
      "5.65\n"
     ]
    }
   ],
   "source": [
    "//media aritmetica\n",
    "double nota1 = 4.8;\n",
    "double nota2 = 6.5;\n",
    "\n",
    "println((nota1+nota2)/2);"
   ]
  },
  {
   "cell_type": "code",
   "execution_count": 30,
   "id": "fad62baa-3857-4393-ad85-9641e383a098",
   "metadata": {},
   "outputs": [
    {
     "name": "stdout",
     "output_type": "stream",
     "text": [
      "01361015212836455566789110512013615317119021023125327630032535137840643546549652856159563066670374178082086190394699010351081112811761225127513261378143114851540159616531711177018301891195320162080214522112278234624152485255626282701277528502926300330813160324033213403348635703655374138283916400540954186427843714465456046564753485149505050"
     ]
    }
   ],
   "source": [
    "//Donat un número enter UPPER, programa un snippet que imprimeixi per pantallla tots els números entre 0 i UPPER que pertanyen a la seqüència de Fibonacci.\n",
    "int UPPER = 100;\n",
    "int suma = 0;\n",
    "for(int contador = 0; contador <= UPPER; contador++){\n",
    "    suma = suma + contador;\n",
    "    print(suma);\n",
    "}\n"
   ]
  },
  {
   "cell_type": "code",
   "execution_count": 47,
   "id": "82eab4a2-4817-4368-913f-c20f9ef24349",
   "metadata": {},
   "outputs": [
    {
     "name": "stdout",
     "output_type": "stream",
     "text": [
      "5.5\n"
     ]
    }
   ],
   "source": [
    "//calcular la media aritmetica de todos los numeros entre 1 y n\n",
    "\n",
    "int n=10;\n",
    "int suma = 0;\n",
    "for(int contador = 1; contador <= n; contador++){\n",
    "        suma = suma + contador;\n",
    "}\n",
    "double media = (double)suma/n;\n",
    "println(media);\n"
   ]
  },
  {
   "cell_type": "code",
   "execution_count": 25,
   "id": "7f13860c-167b-4b88-98bf-81f3058647ae",
   "metadata": {},
   "outputs": [
    {
     "name": "stdout",
     "output_type": "stream",
     "text": [
      "0 1 2 3 4 5 6 7 8 9 10 11 12 13 14 15 16 17 18 19 20 21 22 23 24 25 26 27 28 29 30 "
     ]
    }
   ],
   "source": [
    "int k;\n",
    "k= 30;\n",
    "\n",
    "boolean found = false;\n",
    "\n",
    "for(int contador = 0; !found; contador++){\n",
    "    print(contador + \" \");    \n",
    "    if (contador == k){\n",
    "        found = true;\n",
    "    }\n",
    "}"
   ]
  },
  {
   "cell_type": "code",
   "execution_count": 16,
   "id": "8441813b-ac28-4d77-ad67-22eb23b4d104",
   "metadata": {},
   "outputs": [
    {
     "name": "stdout",
     "output_type": "stream",
     "text": [
      "1x1 = 1\n",
      "1x2 = 2\n",
      "1x3 = 3\n",
      "1x4 = 4\n",
      "1x5 = 5\n",
      "1x6 = 6\n",
      "1x7 = 7\n",
      "1x8 = 8\n",
      "1x9 = 9\n",
      "1x10 = 10\n",
      "2x1 = 2\n",
      "2x2 = 4\n",
      "2x3 = 6\n",
      "2x4 = 8\n",
      "2x5 = 10\n",
      "2x6 = 12\n",
      "2x7 = 14\n",
      "2x8 = 16\n",
      "2x9 = 18\n",
      "2x10 = 20\n",
      "3x1 = 3\n",
      "3x2 = 6\n",
      "3x3 = 9\n",
      "3x4 = 12\n",
      "3x5 = 15\n",
      "3x6 = 18\n",
      "3x7 = 21\n",
      "3x8 = 24\n",
      "3x9 = 27\n",
      "3x10 = 30\n",
      "4x1 = 4\n",
      "4x2 = 8\n",
      "4x3 = 12\n",
      "4x4 = 16\n",
      "4x5 = 20\n",
      "4x6 = 24\n",
      "4x7 = 28\n",
      "4x8 = 32\n",
      "4x9 = 36\n",
      "4x10 = 40\n",
      "5x1 = 5\n",
      "5x2 = 10\n",
      "5x3 = 15\n",
      "5x4 = 20\n",
      "5x5 = 25\n",
      "5x6 = 30\n",
      "5x7 = 35\n",
      "5x8 = 40\n",
      "5x9 = 45\n",
      "5x10 = 50\n",
      "6x1 = 6\n",
      "6x2 = 12\n",
      "6x3 = 18\n",
      "6x4 = 24\n",
      "6x5 = 30\n",
      "6x6 = 36\n",
      "6x7 = 42\n",
      "6x8 = 48\n",
      "6x9 = 54\n",
      "6x10 = 60\n",
      "7x1 = 7\n",
      "7x2 = 14\n",
      "7x3 = 21\n",
      "7x4 = 28\n",
      "7x5 = 35\n",
      "7x6 = 42\n",
      "7x7 = 49\n",
      "7x8 = 56\n",
      "7x9 = 63\n",
      "7x10 = 70\n",
      "8x1 = 8\n",
      "8x2 = 16\n",
      "8x3 = 24\n",
      "8x4 = 32\n",
      "8x5 = 40\n",
      "8x6 = 48\n",
      "8x7 = 56\n",
      "8x8 = 64\n",
      "8x9 = 72\n",
      "8x10 = 80\n",
      "9x1 = 9\n",
      "9x2 = 18\n",
      "9x3 = 27\n",
      "9x4 = 36\n",
      "9x5 = 45\n",
      "9x6 = 54\n",
      "9x7 = 63\n",
      "9x8 = 72\n",
      "9x9 = 81\n",
      "9x10 = 90\n",
      "10x1 = 10\n",
      "10x2 = 20\n",
      "10x3 = 30\n",
      "10x4 = 40\n",
      "10x5 = 50\n",
      "10x6 = 60\n",
      "10x7 = 70\n",
      "10x8 = 80\n",
      "10x9 = 90\n",
      "10x10 = 100\n"
     ]
    }
   ],
   "source": [
    "//tabla de multiplicar\n",
    "int t=10;\n",
    " for(int n = 1; n <= t; n++){\n",
    "    for(int i = 1; i < 11; i ++){\n",
    "        int resultado = n*i;\n",
    "        printf(\"%dx%d = %d%n\", n, i, resultado);\n",
    "    }\n",
    "}"
   ]
  }
 ],
 "metadata": {
  "kernelspec": {
   "display_name": "Java",
   "language": "java",
   "name": "java"
  },
  "language_info": {
   "codemirror_mode": "java",
   "file_extension": ".jshell",
   "mimetype": "text/x-java-source",
   "name": "Java",
   "pygments_lexer": "java",
   "version": "17.0.6+10-LTS"
  }
 },
 "nbformat": 4,
 "nbformat_minor": 5
}
