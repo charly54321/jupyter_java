{
 "cells": [
  {
   "cell_type": "markdown",
   "id": "5e79ce28-e0be-4b51-83c6-7e6940d26360",
   "metadata": {},
   "source": [
    "#### POO-Introduccion"
   ]
  },
  {
   "cell_type": "markdown",
   "id": "c598968c-7ac2-4071-8b5d-ce5934eaeb01",
   "metadata": {},
   "source": [
    "Abstracción\n",
    "\n",
    "> Abstraer y representar (con código) un objeto del mundo real.\n",
    "\n",
    "    Un objeto del mudo real puede ser un objeto fisico(pelota,coche,casa...)\n",
    "    o un objeto imaginario o conceptual(idea, partido....)"
   ]
  },
  {
   "cell_type": "code",
   "execution_count": 8,
   "id": "96c1ad44-ccc1-4568-8bf3-ab22fdacc00e",
   "metadata": {},
   "outputs": [
    {
     "ename": "CompilationException",
     "evalue": "",
     "output_type": "error",
     "traceback": [
      "\u001b[1m\u001b[30m|   \u001b[1m\u001b[30malumno.nombre\u001b[0m\u001b[1m\u001b[30m\u001b[41m\u001b[0m\u001b[1m\u001b[30m \"Juan\";\u001b[0m",
      "\u001b[1m\u001b[31m';' expected\u001b[0m",
      ""
     ]
    }
   ],
   "source": [
    "//una clase es una plantilla donde se definen los atributos(caracteristicas) y metodos(funciones) de un objeto\n",
    "//la plantilla abstrae del mundo real un tipo de objeto generico\n",
    "//cada vez que creo una clase, estoy creando un tipo de dato nuevo osea (Student ahora es un tipo de dato)\n",
    "//el nombre de las clases siempre empieza en mayuscula al contrario q las funciones y variables\n",
    "\n",
    "class Student {\n",
    "    String nombre; //las variables declaradas dentro de una clase se llaman atributos/propiedades\n",
    "    String matricula;\n",
    "    String email;\n",
    "    int edad;\n",
    "    \n",
    "}\n",
    "\n",
    "//instanciamos el objeto Student y la instancia se llama alumno\n",
    "Student alumno = new Student();//cada vez que hacemos un new creamos una nueva instancia\n",
    "alumno.nombre \"Juan\";\n",
    "alumno.matricula =\"ENRE012\";\n",
    "alumno.email = \"JUANPEREZ@GMAIL.COM\";\n",
    "alumno.edad = 34;\n",
    "\n",
    "//la variable alumno guarda un alumno concreto\n",
    "//decimos que guarda una instancia o objeto de Student\n",
    "\n",
    "println(alumno.nombre);\n",
    "println(alumno.matricula);\n",
    "println(alumno.email);\n",
    "println(alumno.edad);\n"
   ]
  }
 ],
 "metadata": {
  "kernelspec": {
   "display_name": "Java",
   "language": "java",
   "name": "java"
  },
  "language_info": {
   "codemirror_mode": "java",
   "file_extension": ".jshell",
   "mimetype": "text/x-java-source",
   "name": "Java",
   "pygments_lexer": "java",
   "version": "17.0.6+10-LTS"
  }
 },
 "nbformat": 4,
 "nbformat_minor": 5
}
