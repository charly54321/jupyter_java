{
 "cells": [
  {
   "cell_type": "code",
   "execution_count": 43,
   "id": "99d8f59c-4d05-4d84-b450-8334555944c0",
   "metadata": {},
   "outputs": [
    {
     "name": "stdout",
     "output_type": "stream",
     "text": [
      "Ingrese un numero: \n"
     ]
    },
    {
     "name": "stdin",
     "output_type": "stream",
     "text": [
      " 1\n"
     ]
    },
    {
     "name": "stdout",
     "output_type": "stream",
     "text": [
      "grrr...\n"
     ]
    }
   ],
   "source": [
    "int n;\n",
    "\n",
    "Scanner lectura = new Scanner (System.in);\n",
    "\n",
    "System.out.println(\"Ingrese un numero: \");\n",
    "\n",
    "n = lectura.nextInt(); \n",
    "\n",
    "if(n%3 == 0){\n",
    "    println(\"bizz\");\n",
    "    \n",
    "}if(n%5 == 0){\n",
    "    println(\"bazz\");\n",
    "    \n",
    "}if(n%7 == 0){\n",
    "    println(\"buzz\");\n",
    "    \n",
    "}else if (n % 3 != 0 && n % 5 != 0 && n % 7 != 0){\n",
    "    println(\"grrr...\");\n",
    "}"
   ]
  },
  {
   "cell_type": "code",
   "execution_count": 10,
   "id": "57811d52-f757-42ec-999d-34bca8f4f3ee",
   "metadata": {},
   "outputs": [
    {
     "name": "stdout",
     "output_type": "stream",
     "text": [
      "Ingrese la tabla de multiplicar: \n"
     ]
    },
    {
     "name": "stdin",
     "output_type": "stream",
     "text": [
      " 3\n"
     ]
    },
    {
     "name": "stdout",
     "output_type": "stream",
     "text": [
      "3x1 = 3\n",
      "3x2 = 6\n",
      "3x3 = 9\n",
      "3x4 = 12\n",
      "3x5 = 15\n",
      "3x6 = 18\n",
      "3x7 = 21\n",
      "3x8 = 24\n",
      "3x9 = 27\n",
      "3x10 = 30\n"
     ]
    }
   ],
   "source": [
    "//tabla de multiplicar\n",
    "int n;\n",
    "//int i = 1;\n",
    "Scanner lectura = new Scanner (System.in);\n",
    "\n",
    "System.out.println(\"Ingrese la tabla de multiplicar: \");\n",
    "\n",
    "n = lectura.nextInt(); \n",
    "for(int i = 1; i < 11; i ++){\n",
    "    int resultado = n*i;\n",
    "    printf(\"%dx%d = %d%n\", n, i, resultado);\n",
    "}\n",
    "//while(i < 11){ \n",
    "    //print(n*i + \" \");\n",
    "    //i ++;\n",
    "//}\n"
   ]
  },
  {
   "cell_type": "code",
   "execution_count": 9,
   "id": "99b10409-c80b-4455-9e34-084aa19a862a",
   "metadata": {},
   "outputs": [
    {
     "name": "stdout",
     "output_type": "stream",
     "text": [
      "30 29 28 27 26 25 24 23 22 21 20 19 18 17 16 15 14 13 12 11 10 9 8 7 6 5 4 3 2 1 0 "
     ]
    }
   ],
   "source": [
    "int k = 30;\n",
    "\n",
    "for(int contador = k; contador >= 0; contador --){\n",
    "    print(contador + \" \");\n",
    "}"
   ]
  },
  {
   "cell_type": "code",
   "execution_count": 25,
   "id": "527007a0-a5e0-408b-8939-9ede4b3c94c0",
   "metadata": {},
   "outputs": [
    {
     "name": "stdout",
     "output_type": "stream",
     "text": [
      "5.65\n"
     ]
    }
   ],
   "source": [
    "//media aritmetica\n",
    "double nota1 = 4.8;\n",
    "double nota2 = 6.5;\n",
    "\n",
    "println((nota1+nota2)/2);"
   ]
  },
  {
   "cell_type": "code",
   "execution_count": 30,
   "id": "fad62baa-3857-4393-ad85-9641e383a098",
   "metadata": {},
   "outputs": [
    {
     "name": "stdout",
     "output_type": "stream",
     "text": [
      "01361015212836455566789110512013615317119021023125327630032535137840643546549652856159563066670374178082086190394699010351081112811761225127513261378143114851540159616531711177018301891195320162080214522112278234624152485255626282701277528502926300330813160324033213403348635703655374138283916400540954186427843714465456046564753485149505050"
     ]
    }
   ],
   "source": [
    "//Donat un número enter UPPER, programa un snippet que imprimeixi per pantallla tots els números entre 0 i UPPER que pertanyen a la seqüència de Fibonacci.\n",
    "int UPPER = 100;\n",
    "int suma = 0;\n",
    "for(int contador = 0; contador <= UPPER; contador++){\n",
    "    suma = suma + contador;\n",
    "    print(suma);\n",
    "}\n"
   ]
  },
  {
   "cell_type": "code",
   "execution_count": 13,
   "id": "82eab4a2-4817-4368-913f-c20f9ef24349",
   "metadata": {},
   "outputs": [
    {
     "name": "stdout",
     "output_type": "stream",
     "text": [
      "5.5\n"
     ]
    }
   ],
   "source": [
    "//calcular la media aritmetica de todos los numeros entre 1 y n\n",
    "\n",
    "int n=10;\n",
    "int suma = 0;\n",
    "for(int contador = 1; contador <= n; contador++){\n",
    "        suma = suma + contador;\n",
    "}\n",
    "double media = (double)suma/n;\n",
    "println(media);\n"
   ]
  },
  {
   "cell_type": "code",
   "execution_count": 25,
   "id": "7f13860c-167b-4b88-98bf-81f3058647ae",
   "metadata": {},
   "outputs": [
    {
     "name": "stdout",
     "output_type": "stream",
     "text": [
      "0 1 2 3 4 5 6 7 8 9 10 11 12 13 14 15 16 17 18 19 20 21 22 23 24 25 26 27 28 29 30 "
     ]
    }
   ],
   "source": [
    "int k;\n",
    "k= 30;\n",
    "\n",
    "boolean found = false;\n",
    "\n",
    "for(int contador = 0; !found; contador++){\n",
    "    print(contador + \" \");    \n",
    "    if (contador == k){\n",
    "        found = true;\n",
    "    }\n",
    "}"
   ]
  },
  {
   "cell_type": "code",
   "execution_count": 16,
   "id": "8441813b-ac28-4d77-ad67-22eb23b4d104",
   "metadata": {},
   "outputs": [
    {
     "name": "stdout",
     "output_type": "stream",
     "text": [
      "1x1 = 1\n",
      "1x2 = 2\n",
      "1x3 = 3\n",
      "1x4 = 4\n",
      "1x5 = 5\n",
      "1x6 = 6\n",
      "1x7 = 7\n",
      "1x8 = 8\n",
      "1x9 = 9\n",
      "1x10 = 10\n",
      "2x1 = 2\n",
      "2x2 = 4\n",
      "2x3 = 6\n",
      "2x4 = 8\n",
      "2x5 = 10\n",
      "2x6 = 12\n",
      "2x7 = 14\n",
      "2x8 = 16\n",
      "2x9 = 18\n",
      "2x10 = 20\n",
      "3x1 = 3\n",
      "3x2 = 6\n",
      "3x3 = 9\n",
      "3x4 = 12\n",
      "3x5 = 15\n",
      "3x6 = 18\n",
      "3x7 = 21\n",
      "3x8 = 24\n",
      "3x9 = 27\n",
      "3x10 = 30\n",
      "4x1 = 4\n",
      "4x2 = 8\n",
      "4x3 = 12\n",
      "4x4 = 16\n",
      "4x5 = 20\n",
      "4x6 = 24\n",
      "4x7 = 28\n",
      "4x8 = 32\n",
      "4x9 = 36\n",
      "4x10 = 40\n",
      "5x1 = 5\n",
      "5x2 = 10\n",
      "5x3 = 15\n",
      "5x4 = 20\n",
      "5x5 = 25\n",
      "5x6 = 30\n",
      "5x7 = 35\n",
      "5x8 = 40\n",
      "5x9 = 45\n",
      "5x10 = 50\n",
      "6x1 = 6\n",
      "6x2 = 12\n",
      "6x3 = 18\n",
      "6x4 = 24\n",
      "6x5 = 30\n",
      "6x6 = 36\n",
      "6x7 = 42\n",
      "6x8 = 48\n",
      "6x9 = 54\n",
      "6x10 = 60\n",
      "7x1 = 7\n",
      "7x2 = 14\n",
      "7x3 = 21\n",
      "7x4 = 28\n",
      "7x5 = 35\n",
      "7x6 = 42\n",
      "7x7 = 49\n",
      "7x8 = 56\n",
      "7x9 = 63\n",
      "7x10 = 70\n",
      "8x1 = 8\n",
      "8x2 = 16\n",
      "8x3 = 24\n",
      "8x4 = 32\n",
      "8x5 = 40\n",
      "8x6 = 48\n",
      "8x7 = 56\n",
      "8x8 = 64\n",
      "8x9 = 72\n",
      "8x10 = 80\n",
      "9x1 = 9\n",
      "9x2 = 18\n",
      "9x3 = 27\n",
      "9x4 = 36\n",
      "9x5 = 45\n",
      "9x6 = 54\n",
      "9x7 = 63\n",
      "9x8 = 72\n",
      "9x9 = 81\n",
      "9x10 = 90\n",
      "10x1 = 10\n",
      "10x2 = 20\n",
      "10x3 = 30\n",
      "10x4 = 40\n",
      "10x5 = 50\n",
      "10x6 = 60\n",
      "10x7 = 70\n",
      "10x8 = 80\n",
      "10x9 = 90\n",
      "10x10 = 100\n"
     ]
    }
   ],
   "source": [
    "//tabla de multiplicar\n",
    "int t=10;\n",
    " for(int n = 1; n <= t; n++){\n",
    "    for(int i = 1; i < 11; i ++){\n",
    "        int resultado = n*i;\n",
    "        printf(\"%dx%d = %d%n\", n, i, resultado);\n",
    "    }\n",
    "}"
   ]
  },
  {
   "cell_type": "code",
   "execution_count": null,
   "id": "74fe5629-70a6-4869-a6d8-962fe69db969",
   "metadata": {},
   "outputs": [],
   "source": [
    "//bucle amb while \n",
    "//while es com for pero es ditribueix de distinta manera\n",
    "\n",
    "int max=20;\n",
    "int inicial=0;\n",
    "\n",
    "while(inicial <=0){\n",
    "    inicial++;\n",
    "}"
   ]
  },
  {
   "cell_type": "code",
   "execution_count": 34,
   "id": "b56b6261-ce25-4787-8898-2166dc62cdcc",
   "metadata": {},
   "outputs": [
    {
     "name": "stdout",
     "output_type": "stream",
     "text": [
      "15.5\n"
     ]
    }
   ],
   "source": [
    "//calcular la media aritmetica de todos los numeros entre 1 y n\n",
    "\n",
    "int n=30;\n",
    "int suma = 0;\n",
    "int contador=0;\n",
    "\n",
    "while(contador <= n){\n",
    "    suma = suma + contador;\n",
    "    contador++;\n",
    "}\n",
    "double media = (double)suma/n;\n",
    "println(media);"
   ]
  },
  {
   "cell_type": "markdown",
   "id": "e7c57e42-8263-40d7-9c78-5e05efa85b5b",
   "metadata": {},
   "source": [
    "#### Arrays"
   ]
  },
  {
   "cell_type": "code",
   "execution_count": null,
   "id": "287a0e13-e0f4-4b75-ae67-5d9410b804fb",
   "metadata": {},
   "outputs": [],
   "source": [
    "//un array siempre es de medida fija\n",
    "//EN UN ARRAY LA PRIMERA POSCION DEL INDICE SIEMPRE ES 0"
   ]
  },
  {
   "cell_type": "code",
   "execution_count": 172,
   "id": "db5e77cb-d10e-4fca-aca3-1087baa5933a",
   "metadata": {},
   "outputs": [
    {
     "name": "stdout",
     "output_type": "stream",
     "text": [
      "5\n",
      "8\n",
      "12\n",
      "[5, 12, 9, 0]\n",
      "5\n",
      "12\n",
      "9\n",
      "0\n",
      "4\n"
     ]
    }
   ],
   "source": [
    "\n",
    "int notas[]={5,8,9,0};\n",
    "println(notas[0]);//valor de la posicion 1 que es la posicion 0\n",
    "println(notas[1]);//valor de la posicion 2 que es la posicion 1\n",
    "notas[1]=12; //cambiamos el valor de la posicion 1\n",
    "println(notas[1]);\n",
    "println(Arrays.toString(notas));//valores array pero uno al lado del otro\n",
    "for(int indice_array=0; indice_array< notas.length; indice_array++){ //as nos retorna todas los valores del array pero uno debajo del otro\n",
    "    println(notas[indice_array]);\n",
    "}\n",
    "println(notas.length);//nos da la longitud del array\n"
   ]
  },
  {
   "cell_type": "code",
   "execution_count": 85,
   "id": "c32ac447-49ba-4077-bde4-f459a688bfdf",
   "metadata": {},
   "outputs": [
    {
     "name": "stdout",
     "output_type": "stream",
     "text": [
      "5\n",
      "8\n",
      "9\n"
     ]
    }
   ],
   "source": [
    "\n",
    "int notas[]={5,8,2,9,0,4,3};\n",
    "for(int indice_array=0; indice_array < notas.length; indice_array++){ //as nos retorna todas los valores del array pero uno debajo del otro\n",
    "    if(notas[indice_array] >= 5){\n",
    "    println(notas[indice_array]);\n",
    "    }\n",
    "}\n",
    "\n"
   ]
  },
  {
   "cell_type": "code",
   "execution_count": 103,
   "id": "1aa69a05-39ad-4b72-b2a4-212ba73f05ed",
   "metadata": {},
   "outputs": [
    {
     "name": "stdout",
     "output_type": "stream",
     "text": [
      "la nota media es 4\n"
     ]
    }
   ],
   "source": [
    "int notas[]={5,8,2,9,0,4,3};\n",
    "int suma=0;\n",
    "for(int indice_array=0; indice_array < notas.length; indice_array++){ //as nos retorna todas los valores del array pero uno debajo del otro\n",
    "    suma=suma+notas[indice_array];\n",
    "}\n",
    "println(\"la nota media es \"+suma/notas.length);"
   ]
  },
  {
   "cell_type": "code",
   "execution_count": 158,
   "id": "ff06d4a3-c68f-4503-ad1e-b5a629f63d3c",
   "metadata": {},
   "outputs": [
    {
     "name": "stdout",
     "output_type": "stream",
     "text": [
      "true"
     ]
    }
   ],
   "source": [
    "//numeros primos\n",
    "//dado un numero entero n imprima true si es primo o false si no lo es\n",
    "//hay que utilizar el modulo y un bucle\n",
    "int n = 2;\n",
    "boolean isPrime=true;\n",
    "for(int i = 2; i<n; i++){\n",
    "    if(n%i==0){\n",
    "        isPrime=false;\n",
    "        break;\n",
    "    }\n",
    "}\n",
    "print(isPrime);"
   ]
  },
  {
   "cell_type": "markdown",
   "id": "e3341b03-0722-4b22-93fd-915bc5ab15f5",
   "metadata": {},
   "source": [
    "**FUNCIONES**"
   ]
  },
  {
   "cell_type": "code",
   "execution_count": 170,
   "id": "aabed818-6e18-44e7-8f10-fbfdb8770e6c",
   "metadata": {},
   "outputs": [
    {
     "name": "stdout",
     "output_type": "stream",
     "text": [
      "true\n",
      "false\n",
      "false\n"
     ]
    }
   ],
   "source": [
    "void funcion1(int n){ //creamos la funcion y le asignamos un parametro n\n",
    "boolean isPrime=true;\n",
    "for(int i = 2; i<n; i++){\n",
    "    if(n%i==0){\n",
    "        isPrime=false;\n",
    "        break;\n",
    "    }\n",
    "}\n",
    "println(isPrime);\n",
    "}\n",
    "funcion1(2);//llamamos a la funcion\n",
    "funcion1(4);\n",
    "funcion1(4);"
   ]
  },
  {
   "cell_type": "code",
   "execution_count": 175,
   "id": "e3ede1df-dd48-4878-962d-7cf3d69cae2e",
   "metadata": {},
   "outputs": [
    {
     "name": "stdout",
     "output_type": "stream",
     "text": [
      "2x1 = 2\n",
      "2x2 = 4\n",
      "2x3 = 6\n",
      "2x4 = 8\n",
      "2x5 = 10\n",
      "2x6 = 12\n",
      "2x7 = 14\n",
      "2x8 = 16\n",
      "2x9 = 18\n",
      "2x10 = 20\n"
     ]
    }
   ],
   "source": [
    "//tabla de multiplicar funcion\n",
    "void tablaDeMultiplicar (int n){\n",
    "for(int i = 1; i < 11; i ++){\n",
    "    int resultado = n*i;\n",
    "    printf(\"%dx%d = %d%n\", n, i, resultado);\n",
    "    }\n",
    "}\n",
    "tablaDeMultiplicar(2);"
   ]
  },
  {
   "cell_type": "code",
   "execution_count": 3,
   "id": "738f5412-90bb-413a-aabc-741882ad795a",
   "metadata": {},
   "outputs": [
    {
     "name": "stdout",
     "output_type": "stream",
     "text": [
      "6\n",
      "3\n",
      "7\n",
      "10\n"
     ]
    }
   ],
   "source": [
    "//funcion que dado dos enteros a y b imprima sus suma\n",
    "\n",
    "void sumaEnteros(int a, int b){\n",
    "    println(a+b);\n",
    "\n",
    "}\n",
    "sumaEnteros(2,4);\n",
    "sumaEnteros(2,1);\n",
    "sumaEnteros(4,3);\n",
    "int c=2;\n",
    "int d=8;\n",
    "sumaEnteros(c,d);//podemos usar variables externas(c,d) para pasar valores a las variables locales (a,b)"
   ]
  },
  {
   "cell_type": "code",
   "execution_count": 20,
   "id": "0fcd99a6-5b19-44e5-992e-25a20a2a0617",
   "metadata": {},
   "outputs": [
    {
     "name": "stdout",
     "output_type": "stream",
     "text": [
      "12\n"
     ]
    }
   ],
   "source": [
    "//A las funciones es mejor que solo hagan una cosa es decir una funcion que debe sumar y printar el resultado, \n",
    "//es mejor que solo haga la suma pq sino es un bad smell Por ejemplo\n",
    "//cuando la funcion es tipo void no retorna nada (no hay salida/return) \n",
    "//cuando la funcion ha de devolver algo se debe poner el tipo de dato que debe retornar y la llamamos con return\n",
    "//las entrada se aplican con parametros y las salidas con el return\n",
    "int sum(int a, int b){\n",
    "    int result = a+b;\n",
    "    return result;\n",
    "}\n",
    "//sum(5,2); pero este resultado se queda floatando y es mejor meterlo en una variable\n",
    "int r=sum(5,7);\n",
    "//ahora podemos hacer con el resultado lo que queramos\n",
    "//imprimir\n",
    "println(r);\n",
    "//enviarporemail\n",
    "//sendEmail(r);\n",
    "//Guardar en base de datos\n",
    "//saveToDB(r);"
   ]
  },
  {
   "cell_type": "markdown",
   "id": "5adec764-874e-445c-b403-01de1f44db77",
   "metadata": {},
   "source": [
    "#### Variables finales\n",
    "\n",
    "###### no es posible cambiarles el valor mas adelante, solo se usan para valores constantes"
   ]
  },
  {
   "cell_type": "code",
   "execution_count": 23,
   "id": "b04ca48f-a09e-454a-bf20-aaa9df19df1e",
   "metadata": {},
   "outputs": [
    {
     "name": "stdout",
     "output_type": "stream",
     "text": [
      "Java for beginners\n"
     ]
    }
   ],
   "source": [
    "final String title= \"Java for beginners\";\n",
    "println(title);\n",
    "title=\"nuevo titulo\";\n",
    "println(title);"
   ]
  },
  {
   "cell_type": "code",
   "execution_count": 50,
   "id": "c0cbb14f-481c-478f-9539-59568de7eb8e",
   "metadata": {},
   "outputs": [
    {
     "name": "stdout",
     "output_type": "stream",
     "text": [
      "7.875\n"
     ]
    }
   ],
   "source": [
    "/*\n",
    "    asi hacemos comentarios multilinea\n",
    "    completar la siguiente funcion para que retorne la media aritmetica del\n",
    "    conjunto de notas de la clase.\n",
    "    Las notas de la clase estan guardadas en un array.\n",
    "    Una vez llamamos a la funcion y obtenemos la media imripmimos la media por pantalla\n",
    "*/\n",
    "double notas[]={9.4, 4.5, 8.0, 9.6};\n",
    "double mediaAritmetica(double notas[]){\n",
    "    double suma=0;\n",
    "    for(int indice = 0; indice < notas.length; indice++){\n",
    "        suma=suma+notas[indice];\n",
    "    }\n",
    "    return suma/notas.length;\n",
    "}\n",
    "//llamar a la funcion\n",
    "double media = mediaAritmetica(notas);\n",
    "//imprimir la media\n",
    "println(media);"
   ]
  },
  {
   "cell_type": "code",
   "execution_count": 64,
   "id": "d27fae91-bb25-4c19-a391-e4f731e682f5",
   "metadata": {},
   "outputs": [
    {
     "name": "stdout",
     "output_type": "stream",
     "text": [
      "La mayor nota es: 9\n"
     ]
    }
   ],
   "source": [
    "//va a calcular y retornar la nota maxima de la clase\n",
    "int notas[]={9,4,8,9,3,8,7};\n",
    "int notaMaxima(int notas []) {\n",
    "// Asumir que el mayor es el primero\n",
    "int mayorNota = notas[0];\n",
    "// Recorrer arreglo y ver si no es así\n",
    "// comenzar desde el 1 porque el 0 ya lo tenemos contemplado arriba\n",
    "    for (int indice = 1; indice < notas.length; indice++) {\n",
    "        if (notas[indice] > mayorNota) {\n",
    "            mayorNota = notas[indice];\n",
    "            }\n",
    "        }\n",
    "   return mayorNota;\n",
    "}\n",
    "//llamamos a la funcion\n",
    "int maxNota = notaMaxima(notas);\n",
    "//imprimimos resultado\n",
    "println(\"La mayor nota es: \" + maxNota);"
   ]
  },
  {
   "cell_type": "code",
   "execution_count": 71,
   "id": "3d11e0d8-e78e-42c9-a751-6f1756850349",
   "metadata": {},
   "outputs": [
    {
     "name": "stdout",
     "output_type": "stream",
     "text": [
      "La menor nota es: 3\n"
     ]
    }
   ],
   "source": [
    "    //va a calcular y retornar la nota minima de la clase\n",
    "int notas[]={9,4,8,9,3,8,7};\n",
    "int notaMaxima(int notas []) {\n",
    "// Asumir que el menor es el primero\n",
    "int menorNota = notas[0];\n",
    "// Recorrer arreglo y ver si no es así\n",
    "// comenzar desde el 1 porque el 0 ya lo tenemos contemplado arriba\n",
    "    for (int indice = 1; indice < notas.length; indice++) {\n",
    "        if (notas[indice] < menorNota) {\n",
    "            menorNota = notas[indice];\n",
    "            }\n",
    "        }\n",
    "   return menorNota;\n",
    "}\n",
    "//llamamos a la funcion\n",
    "int maxNota = notaMaxima(notas);\n",
    "//imprimimos resultado\n",
    "println(\"La menor nota es: \" + maxNota);"
   ]
  },
  {
   "cell_type": "markdown",
   "id": "1547fa8b-8ea1-41e2-aaa1-dd625b7fe762",
   "metadata": {},
   "source": [
    "###foreach\n",
    "sirve para recorrer un array"
   ]
  },
  {
   "cell_type": "code",
   "execution_count": 82,
   "id": "72d01d8b-1d9c-4da4-89ed-21381d97031a",
   "metadata": {},
   "outputs": [
    {
     "name": "stdout",
     "output_type": "stream",
     "text": [
      "------con for------------\n",
      "libro1\n",
      "libro2\n",
      "libro3\n",
      "libro4\n",
      "------con while------------\n",
      "libro1\n",
      "libro2\n",
      "libro3\n",
      "libro4\n",
      "------con foreach------------\n",
      "libro1\n",
      "libro2\n",
      "libro3\n",
      "libro4\n"
     ]
    }
   ],
   "source": [
    "String[] libros = {\"libro1\",\"libro2\",\"libro3\",\"libro4\"};\n",
    "println(\"------con for------------\");\n",
    "for(int i=0; i<libros.length;i++){\n",
    "    println(libros[i]);\n",
    "}\n",
    "println(\"------con while------------\");\n",
    "int k=0;\n",
    "while(k < libros.length){\n",
    "     println(libros[k]);\n",
    "     k++;\n",
    "}\n",
    "println(\"------con foreach------------\"); //esta es la mejor manera de recorrer los elementos de un array, pero recorre el array de principio al final\n",
    "for(String libro:libros){                 //aunque podemos pararlo con un break;\n",
    "    //if(libro ==\"libro1\")\n",
    "    println(libro);\n",
    "    //break;\n",
    "}"
   ]
  }
 ],
 "metadata": {
  "kernelspec": {
   "display_name": "Java",
   "language": "java",
   "name": "java"
  },
  "language_info": {
   "codemirror_mode": "java",
   "file_extension": ".jshell",
   "mimetype": "text/x-java-source",
   "name": "Java",
   "pygments_lexer": "java",
   "version": "17.0.6+10-LTS"
  }
 },
 "nbformat": 4,
 "nbformat_minor": 5
}
